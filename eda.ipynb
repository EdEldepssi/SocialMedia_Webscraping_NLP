{
 "cells": [
  {
   "cell_type": "code",
   "execution_count": 149,
   "id": "4b6f671c-85a4-4274-9b33-870070bd9ae5",
   "metadata": {},
   "outputs": [],
   "source": [
    "import pandas as pd\n",
    "import numpy as np\n",
    "from datetime import datetime\n",
    "import datetime\n",
    "import matplotlib.pyplot as plt\n",
    "import seaborn as sns\n",
    "sns.set_style('whitegrid')\n",
    "from sklearn.model_selection import train_test_split\n",
    "from sklearn.pipeline import Pipeline\n",
    "from sklearn.feature_extraction.text import CountVectorizer\n",
    "from nltk import word_tokenize\n",
    "from nltk.stem import WordNetLemmatizer, PorterStemmer\n",
    "from sklearn.ensemble import RandomForestClassifier\n",
    "from sklearn.ensemble import ExtraTreesClassifier\n",
    "\n",
    "from sklearn.model_selection import cross_val_score\n",
    "import string\n",
    "import regex as re\n",
    "from nltk.corpus import stopwords\n",
    "from sklearn.tree import export_text, DecisionTreeClassifier, plot_tree\n",
    "from sklearn.feature_extraction.text import TfidfTransformer\n",
    "from sklearn.linear_model import LogisticRegression\n",
    "from sklearn.metrics import confusion_matrix\n",
    "from sklearn.metrics import ConfusionMatrixDisplay\n",
    "from sklearn.metrics import classification_report\n",
    "from sklearn.feature_extraction.text import TfidfTransformer\n",
    "from sklearn.feature_extraction.text import TfidfVectorizer\n",
    "\n",
    "import emoji\n",
    "from better_profanity import profanity"
   ]
  },
  {
   "cell_type": "code",
   "execution_count": 2,
   "id": "582d13b1-85cc-4015-92d0-a891c2c096c1",
   "metadata": {},
   "outputs": [],
   "source": [
    "redits = pd.read_csv('./Data/scraped_clean_redits.csv')"
   ]
  },
  {
   "cell_type": "code",
   "execution_count": 3,
   "id": "592c08f9-c582-45f7-a2cf-c1926186cd1e",
   "metadata": {},
   "outputs": [
    {
     "data": {
      "text/html": [
       "<div>\n",
       "<style scoped>\n",
       "    .dataframe tbody tr th:only-of-type {\n",
       "        vertical-align: middle;\n",
       "    }\n",
       "\n",
       "    .dataframe tbody tr th {\n",
       "        vertical-align: top;\n",
       "    }\n",
       "\n",
       "    .dataframe thead th {\n",
       "        text-align: right;\n",
       "    }\n",
       "</style>\n",
       "<table border=\"1\" class=\"dataframe\">\n",
       "  <thead>\n",
       "    <tr style=\"text-align: right;\">\n",
       "      <th></th>\n",
       "      <th>Title</th>\n",
       "      <th>Time</th>\n",
       "      <th>Comments</th>\n",
       "      <th>Subreddit</th>\n",
       "    </tr>\n",
       "  </thead>\n",
       "  <tbody>\n",
       "    <tr>\n",
       "      <th>0</th>\n",
       "      <td>NaN</td>\n",
       "      <td>NaN</td>\n",
       "      <td>NaN</td>\n",
       "      <td>NaN</td>\n",
       "    </tr>\n",
       "    <tr>\n",
       "      <th>1</th>\n",
       "      <td>A random guy sends his vocals to deadmau5 - ge...</td>\n",
       "      <td>5 hours</td>\n",
       "      <td>526</td>\n",
       "      <td>r/Damnthatsinteresting</td>\n",
       "    </tr>\n",
       "    <tr>\n",
       "      <th>2</th>\n",
       "      <td>What is the craziest thing that's ever happene...</td>\n",
       "      <td>14 hours</td>\n",
       "      <td>7.1k</td>\n",
       "      <td>r/AskReddit</td>\n",
       "    </tr>\n",
       "    <tr>\n",
       "      <th>3</th>\n",
       "      <td>Woman is reunited with her dog that was missin...</td>\n",
       "      <td>6 hours</td>\n",
       "      <td>186</td>\n",
       "      <td>r/MadeMeSmile</td>\n",
       "    </tr>\n",
       "    <tr>\n",
       "      <th>4</th>\n",
       "      <td>[OC] saw this guy stealing a mirror in a parki...</td>\n",
       "      <td>6 hours</td>\n",
       "      <td>1.3k</td>\n",
       "      <td>r/pics</td>\n",
       "    </tr>\n",
       "  </tbody>\n",
       "</table>\n",
       "</div>"
      ],
      "text/plain": [
       "                                               Title       Time Comments  \\\n",
       "0                                                NaN        NaN      NaN   \n",
       "1  A random guy sends his vocals to deadmau5 - ge...   5 hours      526    \n",
       "2  What is the craziest thing that's ever happene...  14 hours     7.1k    \n",
       "3  Woman is reunited with her dog that was missin...   6 hours      186    \n",
       "4  [OC] saw this guy stealing a mirror in a parki...   6 hours     1.3k    \n",
       "\n",
       "                Subreddit  \n",
       "0                     NaN  \n",
       "1  r/Damnthatsinteresting  \n",
       "2             r/AskReddit  \n",
       "3           r/MadeMeSmile  \n",
       "4                  r/pics  "
      ]
     },
     "execution_count": 3,
     "metadata": {},
     "output_type": "execute_result"
    }
   ],
   "source": [
    "redits.head()"
   ]
  },
  {
   "cell_type": "code",
   "execution_count": 4,
   "id": "e7f39cda-ce65-4f12-b2c9-7c446ac82ad6",
   "metadata": {},
   "outputs": [],
   "source": [
    "redits.columns = ['title', 'timestamp', 'comments', 'subreddit']\n"
   ]
  },
  {
   "cell_type": "code",
   "execution_count": 5,
   "id": "20c84dde-98a6-4761-b961-31b104d75129",
   "metadata": {},
   "outputs": [],
   "source": [
    "redits.dropna(inplace=True)"
   ]
  },
  {
   "cell_type": "code",
   "execution_count": 6,
   "id": "86605d5a-87dd-4ced-a9a9-9f4b879a33d6",
   "metadata": {},
   "outputs": [
    {
     "data": {
      "text/plain": [
       "10160"
      ]
     },
     "execution_count": 6,
     "metadata": {},
     "output_type": "execute_result"
    }
   ],
   "source": [
    "len(redits)"
   ]
  },
  {
   "cell_type": "markdown",
   "id": "ee0eebc6-2336-497e-bc07-05acd3375341",
   "metadata": {},
   "source": [
    "## Converting the Time column isnto timestamp:"
   ]
  },
  {
   "cell_type": "code",
   "execution_count": 7,
   "id": "eee8bab2-2bb5-4b43-8b77-9fa010b450e7",
   "metadata": {},
   "outputs": [],
   "source": [
    "def convert_to_datetime(input):\n",
    "\n",
    "    now = datetime.datetime.now()\n",
    "    if 'minute' in input:\n",
    "        number_of_minutes = int(input.split(' ')[0])                    \n",
    "        time_posted = now - datetime.timedelta(minutes=number_of_minutes) \n",
    "        return time_posted\n",
    "    \n",
    "    elif 'hour' in input:\n",
    "        number_of_hours = int(input.split(' ')[0])\n",
    "        return now - datetime.timedelta(hours = number_of_hours)\n",
    "    \n",
    "    elif 'day' in input:\n",
    "        number_of_days = int(input.split(' ')[0])\n",
    "        return now - datetime.timedelta(days = number_of_days)\n",
    "    \n",
    "    elif 'month' in input:\n",
    "        number_of_days = int(input.split(' ')[0])*30\n",
    "        return now - datetime.timedelta(days=number_of_days)\n",
    "    \n",
    "    elif 'year' in input:\n",
    "        number_of_days = int(input.split(' ')[0])*365\n",
    "        return now - datetime.timedelta(days=number_of_days)\n",
    "    \n",
    "    elif 'just now' in input:\n",
    "        return now - datetime.timedelta(hours= 15)\n",
    "    \n",
    "    else:\n",
    "        return input"
   ]
  },
  {
   "cell_type": "raw",
   "id": "854d7eba-2433-4bf2-a161-908cfb480883",
   "metadata": {},
   "source": [
    "Resources Used:\n",
    "    - I got help from TA Tanveer:\n",
    "    - https://ga-students.slack.com/archives/D03RDHSE6PN/p1661905856071939"
   ]
  },
  {
   "cell_type": "code",
   "execution_count": 8,
   "id": "7a59358a-7bf9-4362-8b62-cc773ea99e3b",
   "metadata": {},
   "outputs": [],
   "source": [
    "redits['timestamp'] = redits['timestamp'].apply(convert_to_datetime)"
   ]
  },
  {
   "cell_type": "code",
   "execution_count": 9,
   "id": "8e7ce8dd-10d4-4fe3-b45a-4b4a6951167c",
   "metadata": {},
   "outputs": [
    {
     "data": {
      "text/plain": [
       "1   2022-09-06 18:29:56.668416\n",
       "2   2022-09-06 09:29:56.668430\n",
       "3   2022-09-06 17:29:56.668434\n",
       "4   2022-09-06 17:29:56.668436\n",
       "5   2022-09-06 09:29:56.668438\n",
       "Name: timestamp, dtype: datetime64[ns]"
      ]
     },
     "execution_count": 9,
     "metadata": {},
     "output_type": "execute_result"
    }
   ],
   "source": [
    "redits['timestamp'].head()"
   ]
  },
  {
   "cell_type": "markdown",
   "id": "93bd3681-9880-4a2a-8d53-72dcbb94f5bb",
   "metadata": {},
   "source": [
    "## Converting the number of comments into integers:"
   ]
  },
  {
   "cell_type": "code",
   "execution_count": 10,
   "id": "bcf444cc-8d13-4d2b-9f2e-95c041352a5f",
   "metadata": {},
   "outputs": [],
   "source": [
    "def number_converter(each):\n",
    "    if type(each) == float:\n",
    "        return each\n",
    "    else:\n",
    "        if len(each) >5:\n",
    "            return float(each.strip()[:2])\n",
    "        else:\n",
    "            each = each.strip()[:5]\n",
    "        try:\n",
    "            if 'm' in each:\n",
    "                return float(each.strip('m').strip())*1_000_000\n",
    "            elif 'k' in each:\n",
    "                return float(each.strip('k').strip())*1_000\n",
    "            else:\n",
    "                return float(each)\n",
    "        except:\n",
    "            return None"
   ]
  },
  {
   "cell_type": "code",
   "execution_count": 11,
   "id": "9bf02047-7585-437d-8ab6-4ecb1f1c9c0a",
   "metadata": {
    "tags": []
   },
   "outputs": [],
   "source": [
    "redits['comments'] = redits['comments'].apply(number_converter)"
   ]
  },
  {
   "cell_type": "code",
   "execution_count": 12,
   "id": "524e0fb5-be29-4a5b-8bf8-4290106e031c",
   "metadata": {},
   "outputs": [
    {
     "data": {
      "text/plain": [
       "0"
      ]
     },
     "execution_count": 12,
     "metadata": {},
     "output_type": "execute_result"
    }
   ],
   "source": [
    "redits['comments'].isnull().sum()"
   ]
  },
  {
   "cell_type": "code",
   "execution_count": 13,
   "id": "64d7dbca-af29-4ca6-8e12-4c37a7445d08",
   "metadata": {},
   "outputs": [
    {
     "data": {
      "text/plain": [
       "dtype('float64')"
      ]
     },
     "execution_count": 13,
     "metadata": {},
     "output_type": "execute_result"
    }
   ],
   "source": [
    "redits['comments'].dtypes"
   ]
  },
  {
   "cell_type": "code",
   "execution_count": 14,
   "id": "b12cabec-1b55-4e7d-b8db-5548dae3165c",
   "metadata": {},
   "outputs": [
    {
     "data": {
      "text/html": [
       "<div>\n",
       "<style scoped>\n",
       "    .dataframe tbody tr th:only-of-type {\n",
       "        vertical-align: middle;\n",
       "    }\n",
       "\n",
       "    .dataframe tbody tr th {\n",
       "        vertical-align: top;\n",
       "    }\n",
       "\n",
       "    .dataframe thead th {\n",
       "        text-align: right;\n",
       "    }\n",
       "</style>\n",
       "<table border=\"1\" class=\"dataframe\">\n",
       "  <thead>\n",
       "    <tr style=\"text-align: right;\">\n",
       "      <th></th>\n",
       "      <th>title</th>\n",
       "      <th>timestamp</th>\n",
       "      <th>comments</th>\n",
       "      <th>subreddit</th>\n",
       "    </tr>\n",
       "  </thead>\n",
       "  <tbody>\n",
       "    <tr>\n",
       "      <th>1</th>\n",
       "      <td>A random guy sends his vocals to deadmau5 - ge...</td>\n",
       "      <td>2022-09-06 18:29:56.668416</td>\n",
       "      <td>526.0</td>\n",
       "      <td>r/Damnthatsinteresting</td>\n",
       "    </tr>\n",
       "    <tr>\n",
       "      <th>2</th>\n",
       "      <td>What is the craziest thing that's ever happene...</td>\n",
       "      <td>2022-09-06 09:29:56.668430</td>\n",
       "      <td>7100.0</td>\n",
       "      <td>r/AskReddit</td>\n",
       "    </tr>\n",
       "    <tr>\n",
       "      <th>3</th>\n",
       "      <td>Woman is reunited with her dog that was missin...</td>\n",
       "      <td>2022-09-06 17:29:56.668434</td>\n",
       "      <td>186.0</td>\n",
       "      <td>r/MadeMeSmile</td>\n",
       "    </tr>\n",
       "    <tr>\n",
       "      <th>4</th>\n",
       "      <td>[OC] saw this guy stealing a mirror in a parki...</td>\n",
       "      <td>2022-09-06 17:29:56.668436</td>\n",
       "      <td>1300.0</td>\n",
       "      <td>r/pics</td>\n",
       "    </tr>\n",
       "    <tr>\n",
       "      <th>5</th>\n",
       "      <td>WCGW riding recklessly on the inter-state?</td>\n",
       "      <td>2022-09-06 09:29:56.668438</td>\n",
       "      <td>3900.0</td>\n",
       "      <td>r/Whatcouldgowrong</td>\n",
       "    </tr>\n",
       "  </tbody>\n",
       "</table>\n",
       "</div>"
      ],
      "text/plain": [
       "                                               title  \\\n",
       "1  A random guy sends his vocals to deadmau5 - ge...   \n",
       "2  What is the craziest thing that's ever happene...   \n",
       "3  Woman is reunited with her dog that was missin...   \n",
       "4  [OC] saw this guy stealing a mirror in a parki...   \n",
       "5         WCGW riding recklessly on the inter-state?   \n",
       "\n",
       "                   timestamp  comments               subreddit  \n",
       "1 2022-09-06 18:29:56.668416     526.0  r/Damnthatsinteresting  \n",
       "2 2022-09-06 09:29:56.668430    7100.0             r/AskReddit  \n",
       "3 2022-09-06 17:29:56.668434     186.0           r/MadeMeSmile  \n",
       "4 2022-09-06 17:29:56.668436    1300.0                  r/pics  \n",
       "5 2022-09-06 09:29:56.668438    3900.0      r/Whatcouldgowrong  "
      ]
     },
     "execution_count": 14,
     "metadata": {},
     "output_type": "execute_result"
    }
   ],
   "source": [
    "redits.head()"
   ]
  },
  {
   "cell_type": "code",
   "execution_count": 15,
   "id": "df2633e0-567c-481c-8b27-1a8fedee5d06",
   "metadata": {},
   "outputs": [],
   "source": [
    "redits['title_length'] = redits['title'].apply(len)"
   ]
  },
  {
   "cell_type": "code",
   "execution_count": 16,
   "id": "e25b04a9-a041-4bf3-ade6-48efa7e29aae",
   "metadata": {},
   "outputs": [
    {
     "data": {
      "text/plain": [
       "32.0"
      ]
     },
     "execution_count": 16,
     "metadata": {},
     "output_type": "execute_result"
    }
   ],
   "source": [
    "redits['title_length'].median()"
   ]
  },
  {
   "cell_type": "markdown",
   "id": "1bdb2882-f197-445f-98e9-abd1764915c1",
   "metadata": {},
   "source": [
    "###  Checking the target column:"
   ]
  },
  {
   "cell_type": "code",
   "execution_count": 17,
   "id": "8fb02f11-2f6d-4cb7-b387-3f39c00ce3a8",
   "metadata": {},
   "outputs": [
    {
     "data": {
      "text/plain": [
       "269.66141732283467"
      ]
     },
     "execution_count": 17,
     "metadata": {},
     "output_type": "execute_result"
    }
   ],
   "source": [
    "redits['comments'].mean()"
   ]
  },
  {
   "cell_type": "markdown",
   "id": "1454b48c-223f-4e9b-b32e-0c654f62b77c",
   "metadata": {},
   "source": [
    "# Establishing a baseline for a binary predictor:"
   ]
  },
  {
   "cell_type": "code",
   "execution_count": 18,
   "id": "522a6648-208d-4a09-b119-76e1b2118f2b",
   "metadata": {},
   "outputs": [
    {
     "data": {
      "text/plain": [
       "9.0"
      ]
     },
     "execution_count": 18,
     "metadata": {},
     "output_type": "execute_result"
    }
   ],
   "source": [
    "redits['comments'].median()"
   ]
  },
  {
   "cell_type": "code",
   "execution_count": 19,
   "id": "e12b6e73-d126-40dc-bc8d-39e13fbd2a54",
   "metadata": {},
   "outputs": [
    {
     "data": {
      "text/plain": [
       "Text(0.5, 1.0, 'baseline')"
      ]
     },
     "execution_count": 19,
     "metadata": {},
     "output_type": "execute_result"
    },
    {
     "data": {
      "image/png": "[encoded data removed]",
      "text/plain": [
       "<Figure size 576x576 with 1 Axes>"
      ]
     },
     "metadata": {},
     "output_type": "display_data"
    }
   ],
   "source": [
    "# Plotting the baseline:\n",
    "plt.figure(figsize=(8,8))\n",
    "y_mean = [np.median(redits['comments'])]*len(redits['title_length'])\n",
    "sns.scatterplot(x =redits['title_length'],y = redits['comments'],color='blue',alpha=.4,s=60)\n",
    "plt.plot(redits['title_length'],y_mean,label='Median', linestyle='--', color='red', linewidth=3)\n",
    "plt.legend(fontsize=15);\n",
    "plt.title('baseline')"
   ]
  },
  {
   "cell_type": "markdown",
   "id": "acab0285-6078-481c-8383-bd76ff549e54",
   "metadata": {},
   "source": [
    "## Exploring target distribution"
   ]
  },
  {
   "cell_type": "code",
   "execution_count": 20,
   "id": "2ffe4241-3aab-4ca5-b4ca-4a69118781df",
   "metadata": {},
   "outputs": [],
   "source": [
    "# Adding high_enggement columns:\n",
    "redits['high_engagement'] = redits['comments'].apply(lambda x: 1 if x > 9 else 0 )"
   ]
  },
  {
   "cell_type": "code",
   "execution_count": 21,
   "id": "c8e996f9-9bf6-494b-a9f2-6e6f8d53259a",
   "metadata": {},
   "outputs": [
    {
     "data": {
      "image/png": "[encoded data removed]",
      "text/plain": [
       "<Figure size 432x432 with 1 Axes>"
      ]
     },
     "metadata": {},
     "output_type": "display_data"
    }
   ],
   "source": [
    "plt.figure(figsize=(6,6))\n",
    "redits['high_engagement'].plot(kind='hist');"
   ]
  },
  {
   "cell_type": "code",
   "execution_count": 22,
   "id": "e9ded3df-d667-402d-93ff-e5087f7d5d66",
   "metadata": {},
   "outputs": [],
   "source": [
    "# Adding day_of_post column:\n",
    "redits['day_of_post'] = redits['timestamp'].apply(lambda ts : ts.date().day)"
   ]
  },
  {
   "cell_type": "code",
   "execution_count": 23,
   "id": "54764282-5c55-487a-8989-072bfa76bed8",
   "metadata": {},
   "outputs": [],
   "source": [
    "# Adding month_of_post column:\n",
    "redits['month_of_post'] = redits['timestamp'].apply(lambda ts : ts.date().month)"
   ]
  },
  {
   "cell_type": "code",
   "execution_count": 24,
   "id": "c16fee32-6ac7-4e0f-905b-47def5208c68",
   "metadata": {},
   "outputs": [],
   "source": [
    "# Adding hour_of_post column:\n",
    "redits['hour_of_post'] = redits['timestamp'].apply(lambda ts : ts.time().hour)"
   ]
  },
  {
   "cell_type": "code",
   "execution_count": 25,
   "id": "92240962-4d43-4b37-bd96-68e80ab0add2",
   "metadata": {},
   "outputs": [
    {
     "data": {
      "image/png": "[encoded data removed]",
      "text/plain": [
       "<Figure size 432x432 with 1 Axes>"
      ]
     },
     "metadata": {},
     "output_type": "display_data"
    }
   ],
   "source": [
    "plt.figure(figsize=(6,6))\n",
    "redits.groupby('month_of_post')['comments'].count().plot(kind='bar');"
   ]
  },
  {
   "cell_type": "code",
   "execution_count": 26,
   "id": "a722f1b6-c9c4-450a-84a1-da2f79526d15",
   "metadata": {},
   "outputs": [
    {
     "data": {
      "image/png": "[encoded data removed]",
      "text/plain": [
       "<Figure size 432x432 with 1 Axes>"
      ]
     },
     "metadata": {},
     "output_type": "display_data"
    }
   ],
   "source": [
    "plt.figure(figsize=(6,6))\n",
    "redits.groupby('day_of_post')['comments'].count().plot(kind='bar');"
   ]
  },
  {
   "cell_type": "code",
   "execution_count": 27,
   "id": "66766070-9eec-418b-98a6-13918a8fde6e",
   "metadata": {},
   "outputs": [
    {
     "data": {
      "image/png": "[encoded data removed]",
      "text/plain": [
       "<Figure size 432x432 with 1 Axes>"
      ]
     },
     "metadata": {},
     "output_type": "display_data"
    }
   ],
   "source": [
    "plt.figure(figsize=(6,6))\n",
    "redits.groupby('hour_of_post')['comments'].count().plot(kind='bar');"
   ]
  },
  {
   "cell_type": "markdown",
   "id": "28a0fc8a-f742-4c40-ae52-bd3945d59170",
   "metadata": {
    "tags": []
   },
   "source": [
    "## Observation:\n",
    "> - Data is highly deviated in the `day_of_post` and `month_of_post`  because it was all collected in Auguest 31st, so in this case, I don't think it will be a good idea to consider the month of the post as a good predictor of the engagement \n",
    "> - I can see that `hour_of_post` still can be a **good predictor** of the interaction since it's less deviatedand kind of **following a patern**"
   ]
  },
  {
   "cell_type": "code",
   "execution_count": 28,
   "id": "26867bfa-a6e7-45b1-b671-d2fddbc2acad",
   "metadata": {
    "tags": []
   },
   "outputs": [],
   "source": [
    "# Dropping the month_of_post column:\n",
    "\n",
    "redits.drop(columns=['month_of_post', 'day_of_post'], inplace=True)"
   ]
  },
  {
   "cell_type": "code",
   "execution_count": 29,
   "id": "76af15f8-52d5-4b04-9c7c-ac715cd4f65d",
   "metadata": {},
   "outputs": [
    {
     "name": "stderr",
     "output_type": "stream",
     "text": [
      "/var/folders/b4/qnmj1swx0nx7h2b62nkjf05h0000gn/T/ipykernel_4187/89022224.py:17: FutureWarning: The default value of regex will change from True to False in a future version.\n",
      "  redits['title'] = redits['title'].str.replace('\\d+', '')\n"
     ]
    }
   ],
   "source": [
    "# Removing all emojis:\n",
    "def remove_emoji(string):\n",
    "    return emoji.replace_emoji(string, replace='').strip()\n",
    "\n",
    "redits['title'] = redits['title'].apply(remove_emoji)\n",
    "\n",
    "# Converting all titles into lowercase:\n",
    "\n",
    "redits['title'] = redits['title'].str.lower()\n",
    "\n",
    "# Removing profanity:\n",
    "\n",
    "redits['title'] = redits['title'].apply(lambda x: profanity.censor(x))\n",
    "\n",
    "# Removing numbers from title:\n",
    "\n",
    "redits['title'] = redits['title'].str.replace('\\d+', '')\n",
    "\n",
    "# Filter for strange characters:\n",
    "\n",
    "redits['title'] = redits['title'].apply(lambda x: re.sub(r'\\W+', ' ', x))\n",
    "\n",
    "redits['title'] = redits['title'].apply(lambda x: re.sub(r\"[^a-zA-Z0-9 ]\", \"\", x))"
   ]
  },
  {
   "cell_type": "raw",
   "id": "5d499c04-a46c-43d6-96b2-bcbd9dd97a7c",
   "metadata": {},
   "source": [
    "Resources used:\n",
    "    - https://stackoverflow.com/questions/33404752/removing-emojis-from-a-string-in-python\n",
    "    - https://thispointer.com/convert-column-values-to-lowercase-in-pandas-dataframe/\n",
    "    - https://www.geeksforgeeks.org/censor-bad-words-in-python-using-better-profanity/\n",
    "    - https://stackoverflow.com/questions/41719259/how-to-remove-numbers-from-string-terms-in-a-pandas-dataframe\n",
    "    - https://stackoverflow.com/questions/27975069/how-to-filter-rows-containing-a-string-pattern-from-a-pandas-dataframe\n",
    "    - https://stackoverflow.com/questions/33257344/how-to-remove-special-characers-from-a-column-of-dataframe-using-module-re\n",
    "    - https://datagy.io/python-remove-special-characters-from-string/"
   ]
  },
  {
   "cell_type": "code",
   "execution_count": 133,
   "id": "8a2a71b9-95d2-4bf7-8f47-b508c9918f73",
   "metadata": {},
   "outputs": [
    {
     "data": {
      "text/html": [
       "<div>\n",
       "<style scoped>\n",
       "    .dataframe tbody tr th:only-of-type {\n",
       "        vertical-align: middle;\n",
       "    }\n",
       "\n",
       "    .dataframe tbody tr th {\n",
       "        vertical-align: top;\n",
       "    }\n",
       "\n",
       "    .dataframe thead th {\n",
       "        text-align: right;\n",
       "    }\n",
       "</style>\n",
       "<table border=\"1\" class=\"dataframe\">\n",
       "  <thead>\n",
       "    <tr style=\"text-align: right;\">\n",
       "      <th></th>\n",
       "      <th>title</th>\n",
       "    </tr>\n",
       "  </thead>\n",
       "  <tbody>\n",
       "    <tr>\n",
       "      <th>1</th>\n",
       "      <td>a random guy sends his vocals to deadmau gets ...</td>\n",
       "    </tr>\n",
       "    <tr>\n",
       "      <th>2</th>\n",
       "      <td>what is the craziest thing that s ever happene...</td>\n",
       "    </tr>\n",
       "    <tr>\n",
       "      <th>3</th>\n",
       "      <td>woman is reunited with her dog that was missin...</td>\n",
       "    </tr>\n",
       "    <tr>\n",
       "      <th>4</th>\n",
       "      <td>oc saw this guy stealing a mirror in a parkin...</td>\n",
       "    </tr>\n",
       "    <tr>\n",
       "      <th>5</th>\n",
       "      <td>wcgw riding recklessly on the inter state</td>\n",
       "    </tr>\n",
       "    <tr>\n",
       "      <th>...</th>\n",
       "      <td>...</td>\n",
       "    </tr>\n",
       "    <tr>\n",
       "      <th>10156</th>\n",
       "      <td>my wife asked me what was the difference betwe...</td>\n",
       "    </tr>\n",
       "    <tr>\n",
       "      <th>10157</th>\n",
       "      <td>the uncut cooldown room footage</td>\n",
       "    </tr>\n",
       "    <tr>\n",
       "      <th>10158</th>\n",
       "      <td>why do you get hot when you stand in the corner</td>\n",
       "    </tr>\n",
       "    <tr>\n",
       "      <th>10159</th>\n",
       "      <td>what s your favorite pickup line</td>\n",
       "    </tr>\n",
       "    <tr>\n",
       "      <th>10160</th>\n",
       "      <td>rise my brothers</td>\n",
       "    </tr>\n",
       "  </tbody>\n",
       "</table>\n",
       "<p>10160 rows × 1 columns</p>\n",
       "</div>"
      ],
      "text/plain": [
       "                                                   title\n",
       "1      a random guy sends his vocals to deadmau gets ...\n",
       "2      what is the craziest thing that s ever happene...\n",
       "3      woman is reunited with her dog that was missin...\n",
       "4       oc saw this guy stealing a mirror in a parkin...\n",
       "5             wcgw riding recklessly on the inter state \n",
       "...                                                  ...\n",
       "10156  my wife asked me what was the difference betwe...\n",
       "10157                    the uncut cooldown room footage\n",
       "10158   why do you get hot when you stand in the corner \n",
       "10159                  what s your favorite pickup line \n",
       "10160                                  rise my brothers \n",
       "\n",
       "[10160 rows x 1 columns]"
      ]
     },
     "execution_count": 133,
     "metadata": {},
     "output_type": "execute_result"
    }
   ],
   "source": [
    "redits[['title']]"
   ]
  },
  {
   "cell_type": "markdown",
   "id": "db1e00a2-a2ec-4d31-b74b-5a9e00ffe7e5",
   "metadata": {},
   "source": [
    "## Splitting the data:"
   ]
  },
  {
   "cell_type": "code",
   "execution_count": null,
   "id": "bd1c09e1-e81b-4432-9740-3d6fdc732e6e",
   "metadata": {},
   "outputs": [],
   "source": []
  },
  {
   "cell_type": "code",
   "execution_count": 145,
   "id": "3fecacdc-d088-451a-ad26-ab04f409a594",
   "metadata": {},
   "outputs": [],
   "source": [
    "X = redits['title']\n",
    "y = redits['high_engagement']"
   ]
  },
  {
   "cell_type": "code",
   "execution_count": null,
   "id": "53bd25e2-db99-4048-bda2-a29f6f68d44f",
   "metadata": {},
   "outputs": [],
   "source": []
  },
  {
   "cell_type": "code",
   "execution_count": 146,
   "id": "dc4fc643-f93f-4d32-b0bf-301021facb27",
   "metadata": {},
   "outputs": [],
   "source": [
    "X_train, X_test, y_train, y_test = train_test_split(X, y, test_size=0.3, random_state=42, stratify=y)"
   ]
  },
  {
   "cell_type": "code",
   "execution_count": 147,
   "id": "7716254c-3ebc-49d3-9940-21b8a9e64cd6",
   "metadata": {},
   "outputs": [],
   "source": [
    "def lemma_tokenizer(doc):\n",
    "    wnl = WordNetLemmatizer()\n",
    "    tokens = word_tokenize(doc)\n",
    "    return [wnl.lemmatize(t) for t in tokens]\n",
    "\n",
    "def stemmer_tokenizer(doc):\n",
    "    ps = PorterStemmer()\n",
    "    tokens = word_tokenize(doc)\n",
    "    return [ps.stem(t) for t in tokens]"
   ]
  },
  {
   "cell_type": "markdown",
   "id": "be41ef67-8302-43f6-8051-50095e7e24ed",
   "metadata": {},
   "source": [
    "# Using Pipeline:"
   ]
  },
  {
   "cell_type": "markdown",
   "id": "7da24ab0-aa66-4434-8b82-9216ad9f828e",
   "metadata": {},
   "source": [
    "### - Predicting with Random forest"
   ]
  },
  {
   "cell_type": "code",
   "execution_count": 237,
   "id": "7b5a7991-534f-4c93-8a3f-0b44e802fa67",
   "metadata": {},
   "outputs": [
    {
     "data": {
      "text/plain": [
       "(0.9772215973003374, 0.8323490813648294)"
      ]
     },
     "execution_count": 237,
     "metadata": {},
     "output_type": "execute_result"
    }
   ],
   "source": [
    "# Using CountVectorizer:\n",
    "\n",
    "\n",
    "pipe = Pipeline([\n",
    "    ('cv',CountVectorizer(tokenizer=lemma_tokenizer, max_df=250)),\n",
    "    ('rfc', RandomForestClassifier(n_estimators=250))\n",
    "])\n",
    "pipe.fit(X_train, y_train)\n",
    "pipe.score(X_train, y_train), pipe.score(X_test, y_test)"
   ]
  },
  {
   "cell_type": "raw",
   "id": "0b741571-bba2-4b9a-b01a-946643ba9ebb",
   "metadata": {},
   "source": [
    "Resources Used:\n",
    "    - https://scikit-learn.org/stable/modules/generated/sklearn.feature_extraction.text.TfidfTransformer.html"
   ]
  },
  {
   "cell_type": "markdown",
   "id": "74327161-630f-4737-b4b5-ef7041d6324b",
   "metadata": {},
   "source": [
    "## Observation:\n",
    "- Our Random Forest Model is performing with 83% accuracy which is a good improvement over the 50% class majority score"
   ]
  },
  {
   "cell_type": "code",
   "execution_count": 238,
   "id": "21de74fb-b0ed-46d4-97e2-a3eea80a1fb6",
   "metadata": {
    "tags": []
   },
   "outputs": [],
   "source": [
    "ft_imp_df = pd.DataFrame(pipe['rfc'].feature_importances_, \n",
    "             index=pipe['cv'].get_feature_names_out(),\n",
    "             columns=['ft_imps'])"
   ]
  },
  {
   "cell_type": "code",
   "execution_count": 239,
   "id": "b7a8046b-314a-48e7-bb77-18929e340801",
   "metadata": {
    "tags": []
   },
   "outputs": [
    {
     "data": {
      "text/html": [
       "<div>\n",
       "<style scoped>\n",
       "    .dataframe tbody tr th:only-of-type {\n",
       "        vertical-align: middle;\n",
       "    }\n",
       "\n",
       "    .dataframe tbody tr th {\n",
       "        vertical-align: top;\n",
       "    }\n",
       "\n",
       "    .dataframe thead th {\n",
       "        text-align: right;\n",
       "    }\n",
       "</style>\n",
       "<table border=\"1\" class=\"dataframe\">\n",
       "  <thead>\n",
       "    <tr style=\"text-align: right;\">\n",
       "      <th></th>\n",
       "      <th>ft_imps</th>\n",
       "    </tr>\n",
       "  </thead>\n",
       "  <tbody>\n",
       "    <tr>\n",
       "      <th>meme</th>\n",
       "      <td>0.004641</td>\n",
       "    </tr>\n",
       "    <tr>\n",
       "      <th>not</th>\n",
       "      <td>0.003703</td>\n",
       "    </tr>\n",
       "    <tr>\n",
       "      <th>oc</th>\n",
       "      <td>0.003085</td>\n",
       "    </tr>\n",
       "    <tr>\n",
       "      <th>being</th>\n",
       "      <td>0.003084</td>\n",
       "    </tr>\n",
       "    <tr>\n",
       "      <th>why</th>\n",
       "      <td>0.002955</td>\n",
       "    </tr>\n",
       "    <tr>\n",
       "      <th>everyone</th>\n",
       "      <td>0.002862</td>\n",
       "    </tr>\n",
       "    <tr>\n",
       "      <th>still</th>\n",
       "      <td>0.002860</td>\n",
       "    </tr>\n",
       "    <tr>\n",
       "      <th>no</th>\n",
       "      <td>0.002791</td>\n",
       "    </tr>\n",
       "    <tr>\n",
       "      <th>he</th>\n",
       "      <td>0.002766</td>\n",
       "    </tr>\n",
       "    <tr>\n",
       "      <th>ha</th>\n",
       "      <td>0.002703</td>\n",
       "    </tr>\n",
       "    <tr>\n",
       "      <th>guy</th>\n",
       "      <td>0.002663</td>\n",
       "    </tr>\n",
       "    <tr>\n",
       "      <th>when</th>\n",
       "      <td>0.002655</td>\n",
       "    </tr>\n",
       "    <tr>\n",
       "      <th>just</th>\n",
       "      <td>0.002603</td>\n",
       "    </tr>\n",
       "    <tr>\n",
       "      <th>call</th>\n",
       "      <td>0.002537</td>\n",
       "    </tr>\n",
       "    <tr>\n",
       "      <th>get</th>\n",
       "      <td>0.002462</td>\n",
       "    </tr>\n",
       "    <tr>\n",
       "      <th>one</th>\n",
       "      <td>0.002458</td>\n",
       "    </tr>\n",
       "    <tr>\n",
       "      <th>his</th>\n",
       "      <td>0.002454</td>\n",
       "    </tr>\n",
       "    <tr>\n",
       "      <th>like</th>\n",
       "      <td>0.002442</td>\n",
       "    </tr>\n",
       "    <tr>\n",
       "      <th>so</th>\n",
       "      <td>0.002430</td>\n",
       "    </tr>\n",
       "    <tr>\n",
       "      <th>from</th>\n",
       "      <td>0.002394</td>\n",
       "    </tr>\n",
       "  </tbody>\n",
       "</table>\n",
       "</div>"
      ],
      "text/plain": [
       "           ft_imps\n",
       "meme      0.004641\n",
       "not       0.003703\n",
       "oc        0.003085\n",
       "being     0.003084\n",
       "why       0.002955\n",
       "everyone  0.002862\n",
       "still     0.002860\n",
       "no        0.002791\n",
       "he        0.002766\n",
       "ha        0.002703\n",
       "guy       0.002663\n",
       "when      0.002655\n",
       "just      0.002603\n",
       "call      0.002537\n",
       "get       0.002462\n",
       "one       0.002458\n",
       "his       0.002454\n",
       "like      0.002442\n",
       "so        0.002430\n",
       "from      0.002394"
      ]
     },
     "execution_count": 239,
     "metadata": {},
     "output_type": "execute_result"
    }
   ],
   "source": [
    "# Exploring the most important features contributing to high interaction messages:\n",
    "\n",
    "ft_imp_df.sort_values(by='ft_imps', ascending=False).head(20)"
   ]
  },
  {
   "cell_type": "code",
   "execution_count": 240,
   "id": "049fbd4a-7110-4396-b2f7-ce403a032468",
   "metadata": {},
   "outputs": [
    {
     "data": {
      "image/png": "[encoded data removed]",
      "text/plain": [
       "<Figure size 576x576 with 1 Axes>"
      ]
     },
     "metadata": {},
     "output_type": "display_data"
    }
   ],
   "source": [
    "ft_imp_df.sort_values(by='ft_imps', ascending=False).head(20).plot(kind='barh',\n",
    "                                                                    title = 'top 20 important features',\n",
    "                                                                    figsize=(8,8), fontsize=14, color='#10ac84');"
   ]
  },
  {
   "cell_type": "code",
   "execution_count": 241,
   "id": "17bfd691-0e28-4f4f-8e36-b486eda1b643",
   "metadata": {},
   "outputs": [
    {
     "data": {
      "text/plain": [
       "Index(['wrote', 'wsb', 'wude', 'wvu', 'ww', 'www', 'wyspa', 'x', 'xbox',\n",
       "       'xenoblade', 'xers', 'xi', 'xinzoruo', 'xl', 'xmas', 'xolaani', 'xp',\n",
       "       'xponentialdesign', 'xqc', 'xsb', 'xvb', 'y', 'ya', 'yada', 'yakuza',\n",
       "       'yall', 'yamato', 'yankee', 'yankovich', 'yazlar', 'ye', 'yea', 'yeah',\n",
       "       'year', 'yearly', 'yeat', 'yeh', 'yeji', 'yelich', 'yell', 'yellow',\n",
       "       'yep', 'yes', 'yesterday', 'yet', 'yiga', 'yk', 'yo', 'yodeling',\n",
       "       'yoga', 'yolo', 'york', 'yosemite', 'yoshino', 'young', 'younger',\n",
       "       'younglings', 'your', 'yourself', 'youthful', 'youtube', 'youtuber',\n",
       "       'youtubers', 'youve', 'yr', 'ysk', 'yt', 'yucks', 'yukiko', 'yzy',\n",
       "       'zacian', 'zack', 'zamacamatan', 'zamazenta', 'zamezenta', 'zavri',\n",
       "       'zealand', 'zee', 'zelenskiy', 'zelensky', 'zemanzentra', 'zen', 'zero',\n",
       "       'zeus', 'zhizdra', 'zimbabwe', 'zion', 'zip', 'zit', 'zombie', 'zone',\n",
       "       'zoo', 'zooey', 'zoom', 'zoomer', 'zoomies', 'zoot', 'zoster', 'zot',\n",
       "       'zuko'],\n",
       "      dtype='object')"
      ]
     },
     "execution_count": 241,
     "metadata": {},
     "output_type": "execute_result"
    }
   ],
   "source": [
    "# Exploring some of the low importance words:\n",
    "ft_imp_df[ft_imp_df['ft_imps']<.01].tail(100).index"
   ]
  },
  {
   "cell_type": "markdown",
   "id": "36fd2229-24a3-4373-b5a9-140818d2534a",
   "metadata": {},
   "source": [
    "**Using `LogisticRegression` and `lemma_tokenizer`**"
   ]
  },
  {
   "cell_type": "code",
   "execution_count": 242,
   "id": "a89a14de-90e3-453c-9422-8baa2fe25d9e",
   "metadata": {},
   "outputs": [
    {
     "name": "stderr",
     "output_type": "stream",
     "text": [
      "/opt/anaconda3/lib/python3.9/site-packages/sklearn/feature_extraction/text.py:404: UserWarning: Your stop_words may be inconsistent with your preprocessing. Tokenizing the stop words generated tokens ['ha', 'le', 'u', 'wa'] not in stop_words.\n",
      "  warnings.warn(\n"
     ]
    },
    {
     "data": {
      "text/plain": [
       "(0.9420697412823397, 0.800524934383202)"
      ]
     },
     "execution_count": 242,
     "metadata": {},
     "output_type": "execute_result"
    }
   ],
   "source": [
    "\n",
    "pipe = Pipeline([\n",
    "    ('cv', CountVectorizer( stop_words='english', tokenizer=lemma_tokenizer,ngram_range=(1,2))),\n",
    "    ('lr', LogisticRegression(C=.4))\n",
    "])\n",
    "pipe.fit(X_train, y_train)\n",
    "pipe.score(X_train, y_train), pipe.score(X_test, y_test)"
   ]
  },
  {
   "cell_type": "code",
   "execution_count": 243,
   "id": "921727ca-963d-452c-ab63-b34976cb7b09",
   "metadata": {},
   "outputs": [
    {
     "data": {
      "text/html": [
       "<div>\n",
       "<style scoped>\n",
       "    .dataframe tbody tr th:only-of-type {\n",
       "        vertical-align: middle;\n",
       "    }\n",
       "\n",
       "    .dataframe tbody tr th {\n",
       "        vertical-align: top;\n",
       "    }\n",
       "\n",
       "    .dataframe thead th {\n",
       "        text-align: right;\n",
       "    }\n",
       "</style>\n",
       "<table border=\"1\" class=\"dataframe\">\n",
       "  <thead>\n",
       "    <tr style=\"text-align: right;\">\n",
       "      <th></th>\n",
       "      <th>coefs</th>\n",
       "    </tr>\n",
       "  </thead>\n",
       "  <tbody>\n",
       "    <tr>\n",
       "      <th>oc</th>\n",
       "      <td>1.260349</td>\n",
       "    </tr>\n",
       "    <tr>\n",
       "      <th>hospitality</th>\n",
       "      <td>0.960545</td>\n",
       "    </tr>\n",
       "    <tr>\n",
       "      <th>mirror</th>\n",
       "      <td>0.960065</td>\n",
       "    </tr>\n",
       "    <tr>\n",
       "      <th>trump</th>\n",
       "      <td>0.954214</td>\n",
       "    </tr>\n",
       "    <tr>\n",
       "      <th>mean</th>\n",
       "      <td>0.923218</td>\n",
       "    </tr>\n",
       "    <tr>\n",
       "      <th>happened</th>\n",
       "      <td>0.895150</td>\n",
       "    </tr>\n",
       "    <tr>\n",
       "      <th>game</th>\n",
       "      <td>0.864529</td>\n",
       "    </tr>\n",
       "    <tr>\n",
       "      <th>doing</th>\n",
       "      <td>0.851092</td>\n",
       "    </tr>\n",
       "    <tr>\n",
       "      <th>d</th>\n",
       "      <td>0.847669</td>\n",
       "    </tr>\n",
       "    <tr>\n",
       "      <th>girl</th>\n",
       "      <td>0.847522</td>\n",
       "    </tr>\n",
       "    <tr>\n",
       "      <th>joe</th>\n",
       "      <td>0.834951</td>\n",
       "    </tr>\n",
       "    <tr>\n",
       "      <th>wcgw</th>\n",
       "      <td>0.832994</td>\n",
       "    </tr>\n",
       "    <tr>\n",
       "      <th>men</th>\n",
       "      <td>0.829088</td>\n",
       "    </tr>\n",
       "    <tr>\n",
       "      <th>head</th>\n",
       "      <td>0.828764</td>\n",
       "    </tr>\n",
       "    <tr>\n",
       "      <th>school</th>\n",
       "      <td>0.801362</td>\n",
       "    </tr>\n",
       "    <tr>\n",
       "      <th>self</th>\n",
       "      <td>0.799791</td>\n",
       "    </tr>\n",
       "    <tr>\n",
       "      <th>getting</th>\n",
       "      <td>0.792832</td>\n",
       "    </tr>\n",
       "    <tr>\n",
       "      <th>finally</th>\n",
       "      <td>0.780290</td>\n",
       "    </tr>\n",
       "    <tr>\n",
       "      <th>lol</th>\n",
       "      <td>0.761355</td>\n",
       "    </tr>\n",
       "    <tr>\n",
       "      <th>example</th>\n",
       "      <td>0.751522</td>\n",
       "    </tr>\n",
       "  </tbody>\n",
       "</table>\n",
       "</div>"
      ],
      "text/plain": [
       "                coefs\n",
       "oc           1.260349\n",
       "hospitality  0.960545\n",
       "mirror       0.960065\n",
       "trump        0.954214\n",
       "mean         0.923218\n",
       "happened     0.895150\n",
       "game         0.864529\n",
       "doing        0.851092\n",
       "d            0.847669\n",
       "girl         0.847522\n",
       "joe          0.834951\n",
       "wcgw         0.832994\n",
       "men          0.829088\n",
       "head         0.828764\n",
       "school       0.801362\n",
       "self         0.799791\n",
       "getting      0.792832\n",
       "finally      0.780290\n",
       "lol          0.761355\n",
       "example      0.751522"
      ]
     },
     "execution_count": 243,
     "metadata": {},
     "output_type": "execute_result"
    }
   ],
   "source": [
    "coef_df = pd.DataFrame(pipe['lr'].coef_[0], index=pipe['cv'].get_feature_names_out(), columns=['coefs'])\n",
    "coef_df.sort_values(by='coefs', ascending=False).head(20)"
   ]
  },
  {
   "cell_type": "markdown",
   "id": "7514721b-cbf4-4f33-97b4-86197e1df2a0",
   "metadata": {},
   "source": [
    "## Interpretation:\n",
    "\n",
    "- Posts that contain `oc` has 1.7% higher chance of getting high engagement, all other factors remains conestant.\n",
    "    \n",
    "- Posts that contain `hospitality` has 1.5% higher chance of getting high engagement, all other factors remains conestant.\n",
    "\n",
    "- Posts that contain `mirror` has 1.5% higher chance of getting high engagement, all other factors remains conestant.\n",
    "\n",
    "- etc.\n",
    "    "
   ]
  },
  {
   "cell_type": "code",
   "execution_count": 244,
   "id": "9b0498b5-26b6-4d81-ac37-8edfc6f5390a",
   "metadata": {},
   "outputs": [
    {
     "data": {
      "image/png": "[encoded data removed]",
      "text/plain": [
       "<Figure size 576x576 with 1 Axes>"
      ]
     },
     "metadata": {},
     "output_type": "display_data"
    }
   ],
   "source": [
    "coef_df.sort_values(by='coefs', ascending=False).head(20).plot(kind='barh',\n",
    "                                                                    title = 'top 20 positive coefficients',\n",
    "                                                                    figsize=(8,8), fontsize=15, color='#10ac84');\n"
   ]
  },
  {
   "cell_type": "code",
   "execution_count": 245,
   "id": "6f2ebd5c-e825-435a-9461-6674c3dc5dbe",
   "metadata": {},
   "outputs": [
    {
     "data": {
      "image/png": "[encoded data removed]",
      "text/plain": [
       "<Figure size 576x576 with 1 Axes>"
      ]
     },
     "metadata": {},
     "output_type": "display_data"
    }
   ],
   "source": [
    "coef_df.sort_values(by='coefs', ascending=False).tail(20).plot(kind='barh',\n",
    "                                                                      title= 'top 20 negative coefficients',\n",
    "                                                                      figsize=(8,8), fontsize=14, color='#ff9f43');\n"
   ]
  },
  {
   "cell_type": "code",
   "execution_count": 246,
   "id": "e322b6fc-1794-4757-a89c-6dbe94d3effe",
   "metadata": {},
   "outputs": [],
   "source": [
    "logr_predictions = pipe.predict(X_test)"
   ]
  },
  {
   "cell_type": "code",
   "execution_count": 247,
   "id": "2b7bf251-57cc-437c-814a-58ea31182818",
   "metadata": {},
   "outputs": [
    {
     "name": "stdout",
     "output_type": "stream",
     "text": [
      "              precision    recall  f1-score   support\n",
      "\n",
      "           0       0.77      0.86      0.81      1535\n",
      "           1       0.84      0.74      0.79      1513\n",
      "\n",
      "    accuracy                           0.80      3048\n",
      "   macro avg       0.80      0.80      0.80      3048\n",
      "weighted avg       0.80      0.80      0.80      3048\n",
      "\n"
     ]
    }
   ],
   "source": [
    "# Printing the classification report for logestic regression model:\n",
    "print(classification_report(y_test, logr_predictions))"
   ]
  },
  {
   "cell_type": "code",
   "execution_count": 248,
   "id": "22cca6f2-d790-4259-8913-20bb2840fca6",
   "metadata": {},
   "outputs": [
    {
     "name": "stdout",
     "output_type": "stream",
     "text": [
      "              precision    recall  f1-score   support\n",
      "\n",
      "           0       0.79      0.84      0.82      1535\n",
      "           1       0.83      0.78      0.80      1513\n",
      "\n",
      "    accuracy                           0.81      3048\n",
      "   macro avg       0.81      0.81      0.81      3048\n",
      "weighted avg       0.81      0.81      0.81      3048\n",
      "\n"
     ]
    }
   ],
   "source": [
    "# Printing the classification report for Random Forest Classifier model:\n",
    "\n",
    "print(classification_report(y_test, rfc_predictions))"
   ]
  },
  {
   "cell_type": "markdown",
   "id": "fde319ef-9a0a-4fe3-9f2a-dc1dddb9f8ce",
   "metadata": {},
   "source": [
    "## Interpretation:\n",
    "\n",
    "- overall accuracy is `81%` which is better than the baseline score `50%` based on class majority\n",
    "\n",
    "- For low engagement we have a good percision`77%` which is the true positive out of all positive observations,recall`87%` which is the true positive of all observations. and f1 score`82%` which is the harmonic mean between percision and recall."
   ]
  },
  {
   "cell_type": "code",
   "execution_count": 249,
   "id": "5dff5933-2513-4783-b35e-8c402cda59d5",
   "metadata": {},
   "outputs": [
    {
     "data": {
      "image/png": "[encoded data removed]",
      "text/plain": [
       "<Figure size 432x288 with 2 Axes>"
      ]
     },
     "metadata": {},
     "output_type": "display_data"
    }
   ],
   "source": [
    "ConfusionMatrixDisplay.from_estimator(pipe,X_test, y_test);\n"
   ]
  },
  {
   "cell_type": "code",
   "execution_count": 250,
   "id": "dad99d62-8334-47b8-8dd7-f96b20211abb",
   "metadata": {},
   "outputs": [
    {
     "name": "stdout",
     "output_type": "stream",
     "text": [
      "[[1315  220]\n",
      " [ 388 1125]]\n"
     ]
    }
   ],
   "source": [
    "print(confusion_matrix(y_test, pipe.predict(X_test)))"
   ]
  },
  {
   "cell_type": "markdown",
   "id": "3c81f6d1-c46e-49a7-a9b8-ca4ef1be2f0c",
   "metadata": {},
   "source": [
    "## Interpretation:\n",
    "\n",
    "- True positive: 1313\n",
    "- True Negative: 1145\n",
    "- False Negative: 222\n",
    "- False Positive: 368\n",
    "\n",
    "- The overall effectiveness of my model \n"
   ]
  },
  {
   "cell_type": "code",
   "execution_count": null,
   "id": "4e50490e-c9a2-417e-88f7-9f285a3e482c",
   "metadata": {},
   "outputs": [],
   "source": []
  },
  {
   "cell_type": "code",
   "execution_count": null,
   "id": "0a725e7f-38d5-4545-b854-5570d26b32ed",
   "metadata": {},
   "outputs": [],
   "source": []
  },
  {
   "cell_type": "code",
   "execution_count": null,
   "id": "0bb498ca-766b-42c2-8469-c0cd9507d779",
   "metadata": {},
   "outputs": [],
   "source": []
  }
 ],
 "metadata": {
  "kernelspec": {
   "display_name": "Python 3 (ipykernel)",
   "language": "python",
   "name": "python3"
  },
  "language_info": {
   "codemirror_mode": {
    "name": "ipython",
    "version": 3
   },
   "file_extension": ".py",
   "mimetype": "text/x-python",
   "name": "python",
   "nbconvert_exporter": "python",
   "pygments_lexer": "ipython3",
   "version": "3.9.7"
  }
 },
 "nbformat": 4,
 "nbformat_minor": 5
}
